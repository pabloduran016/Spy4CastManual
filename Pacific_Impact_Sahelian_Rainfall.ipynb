{
 "cells": [
  {
   "cell_type": "markdown",
   "metadata": {
    "collapsed": true,
    "pycharm": {
     "name": "#%% md\n"
    }
   },
   "source": [
    "# Jupyter Notebook Version for calculating Pacific Impact on Sahelian Rain Fall"
   ]
  },
  {
   "cell_type": "code",
   "execution_count": 1,
   "outputs": [],
   "source": [
    "import pandas as pd\n",
    "from spy4cast import Dataset, Region, Month\n",
    "from spy4cast.spy4cast import Preprocess, MCA, Crossvalidation"
   ],
   "metadata": {
    "collapsed": false,
    "pycharm": {
     "name": "#%%\n"
    }
   }
  },
  {
   "cell_type": "markdown",
   "source": [
    "## Configuration"
   ],
   "metadata": {
    "collapsed": false,
    "pycharm": {
     "name": "#%% md\n"
    }
   }
  },
  {
   "cell_type": "code",
   "execution_count": 2,
   "outputs": [
    {
     "ename": "DatasetNotFoundError",
     "evalue": "Couldn't find dataset",
     "output_type": "error",
     "traceback": [
      "\u001B[0;31m---------------------------------------------------------------------------\u001B[0m",
      "\u001B[0;31mKeyError\u001B[0m                                  Traceback (most recent call last)",
      "File \u001B[0;32m~/opt/anaconda3/envs/Spy4CastManual/lib/python3.9/site-packages/xarray/backends/file_manager.py:199\u001B[0m, in \u001B[0;36mCachingFileManager._acquire_with_cache_info\u001B[0;34m(self, needs_lock)\u001B[0m\n\u001B[1;32m    198\u001B[0m \u001B[38;5;28;01mtry\u001B[39;00m:\n\u001B[0;32m--> 199\u001B[0m     file \u001B[38;5;241m=\u001B[39m \u001B[38;5;28;43mself\u001B[39;49m\u001B[38;5;241;43m.\u001B[39;49m\u001B[43m_cache\u001B[49m\u001B[43m[\u001B[49m\u001B[38;5;28;43mself\u001B[39;49m\u001B[38;5;241;43m.\u001B[39;49m\u001B[43m_key\u001B[49m\u001B[43m]\u001B[49m\n\u001B[1;32m    200\u001B[0m \u001B[38;5;28;01mexcept\u001B[39;00m \u001B[38;5;167;01mKeyError\u001B[39;00m:\n",
      "File \u001B[0;32m~/opt/anaconda3/envs/Spy4CastManual/lib/python3.9/site-packages/xarray/backends/lru_cache.py:53\u001B[0m, in \u001B[0;36mLRUCache.__getitem__\u001B[0;34m(self, key)\u001B[0m\n\u001B[1;32m     52\u001B[0m \u001B[38;5;28;01mwith\u001B[39;00m \u001B[38;5;28mself\u001B[39m\u001B[38;5;241m.\u001B[39m_lock:\n\u001B[0;32m---> 53\u001B[0m     value \u001B[38;5;241m=\u001B[39m \u001B[38;5;28;43mself\u001B[39;49m\u001B[38;5;241;43m.\u001B[39;49m\u001B[43m_cache\u001B[49m\u001B[43m[\u001B[49m\u001B[43mkey\u001B[49m\u001B[43m]\u001B[49m\n\u001B[1;32m     54\u001B[0m     \u001B[38;5;28mself\u001B[39m\u001B[38;5;241m.\u001B[39m_cache\u001B[38;5;241m.\u001B[39mmove_to_end(key)\n",
      "\u001B[0;31mKeyError\u001B[0m: [<class 'netCDF4._netCDF4.Dataset'>, ('/Users/pabloduran/Developer/Spy4CastManual/datasets/cru_ts4.06.1901.2021.pre.dat.nc',), 'r', (('clobber', True), ('diskless', False), ('format', 'NETCDF4'), ('persist', False))]",
      "\nDuring handling of the above exception, another exception occurred:\n",
      "\u001B[0;31mFileNotFoundError\u001B[0m                         Traceback (most recent call last)",
      "File \u001B[0;32m~/opt/anaconda3/envs/Spy4CastManual/lib/python3.9/site-packages/spy4cast/dataset.py:216\u001B[0m, in \u001B[0;36mDataset.open\u001B[0;34m(self, var)\u001B[0m\n\u001B[1;32m    215\u001B[0m \u001B[38;5;28;01mtry\u001B[39;00m:\n\u001B[0;32m--> 216\u001B[0m     \u001B[38;5;28mself\u001B[39m\u001B[38;5;241m.\u001B[39m_ds \u001B[38;5;241m=\u001B[39m \u001B[43mxr\u001B[49m\u001B[38;5;241;43m.\u001B[39;49m\u001B[43mopen_dataset\u001B[49m\u001B[43m(\u001B[49m\n\u001B[1;32m    217\u001B[0m \u001B[43m        \u001B[49m\u001B[43mos\u001B[49m\u001B[38;5;241;43m.\u001B[39;49m\u001B[43mpath\u001B[49m\u001B[38;5;241;43m.\u001B[39;49m\u001B[43mjoin\u001B[49m\u001B[43m(\u001B[49m\u001B[38;5;28;43mself\u001B[39;49m\u001B[38;5;241;43m.\u001B[39;49m\u001B[43mfolder\u001B[49m\u001B[43m,\u001B[49m\u001B[43m \u001B[49m\u001B[38;5;28;43mself\u001B[39;49m\u001B[38;5;241;43m.\u001B[39;49m\u001B[43mname\u001B[49m\u001B[43m)\u001B[49m\u001B[43m,\u001B[49m\n\u001B[1;32m    218\u001B[0m \u001B[43m        \u001B[49m\u001B[43mmask_and_scale\u001B[49m\u001B[38;5;241;43m=\u001B[39;49m\u001B[38;5;28;43;01mTrue\u001B[39;49;00m\u001B[43m,\u001B[49m\n\u001B[1;32m    219\u001B[0m \u001B[43m        \u001B[49m\u001B[43mchunks\u001B[49m\u001B[38;5;241;43m=\u001B[39;49m\u001B[38;5;28;43mself\u001B[39;49m\u001B[38;5;241;43m.\u001B[39;49m\u001B[43m_chunks\u001B[49m\n\u001B[1;32m    220\u001B[0m \u001B[43m    \u001B[49m\u001B[43m)\u001B[49m\n\u001B[1;32m    221\u001B[0m \u001B[38;5;28;01mexcept\u001B[39;00m \u001B[38;5;167;01mValueError\u001B[39;00m:\n",
      "File \u001B[0;32m~/opt/anaconda3/envs/Spy4CastManual/lib/python3.9/site-packages/xarray/backends/api.py:495\u001B[0m, in \u001B[0;36mopen_dataset\u001B[0;34m(filename_or_obj, engine, chunks, cache, decode_cf, mask_and_scale, decode_times, decode_timedelta, use_cftime, concat_characters, decode_coords, drop_variables, backend_kwargs, *args, **kwargs)\u001B[0m\n\u001B[1;32m    494\u001B[0m overwrite_encoded_chunks \u001B[38;5;241m=\u001B[39m kwargs\u001B[38;5;241m.\u001B[39mpop(\u001B[38;5;124m\"\u001B[39m\u001B[38;5;124moverwrite_encoded_chunks\u001B[39m\u001B[38;5;124m\"\u001B[39m, \u001B[38;5;28;01mNone\u001B[39;00m)\n\u001B[0;32m--> 495\u001B[0m backend_ds \u001B[38;5;241m=\u001B[39m \u001B[43mbackend\u001B[49m\u001B[38;5;241;43m.\u001B[39;49m\u001B[43mopen_dataset\u001B[49m\u001B[43m(\u001B[49m\n\u001B[1;32m    496\u001B[0m \u001B[43m    \u001B[49m\u001B[43mfilename_or_obj\u001B[49m\u001B[43m,\u001B[49m\n\u001B[1;32m    497\u001B[0m \u001B[43m    \u001B[49m\u001B[43mdrop_variables\u001B[49m\u001B[38;5;241;43m=\u001B[39;49m\u001B[43mdrop_variables\u001B[49m\u001B[43m,\u001B[49m\n\u001B[1;32m    498\u001B[0m \u001B[43m    \u001B[49m\u001B[38;5;241;43m*\u001B[39;49m\u001B[38;5;241;43m*\u001B[39;49m\u001B[43mdecoders\u001B[49m\u001B[43m,\u001B[49m\n\u001B[1;32m    499\u001B[0m \u001B[43m    \u001B[49m\u001B[38;5;241;43m*\u001B[39;49m\u001B[38;5;241;43m*\u001B[39;49m\u001B[43mkwargs\u001B[49m\u001B[43m,\u001B[49m\n\u001B[1;32m    500\u001B[0m \u001B[43m\u001B[49m\u001B[43m)\u001B[49m\n\u001B[1;32m    501\u001B[0m ds \u001B[38;5;241m=\u001B[39m _dataset_from_backend_dataset(\n\u001B[1;32m    502\u001B[0m     backend_ds,\n\u001B[1;32m    503\u001B[0m     filename_or_obj,\n\u001B[0;32m   (...)\u001B[0m\n\u001B[1;32m    510\u001B[0m     \u001B[38;5;241m*\u001B[39m\u001B[38;5;241m*\u001B[39mkwargs,\n\u001B[1;32m    511\u001B[0m )\n",
      "File \u001B[0;32m~/opt/anaconda3/envs/Spy4CastManual/lib/python3.9/site-packages/xarray/backends/netCDF4_.py:553\u001B[0m, in \u001B[0;36mNetCDF4BackendEntrypoint.open_dataset\u001B[0;34m(self, filename_or_obj, mask_and_scale, decode_times, concat_characters, decode_coords, drop_variables, use_cftime, decode_timedelta, group, mode, format, clobber, diskless, persist, lock, autoclose)\u001B[0m\n\u001B[1;32m    552\u001B[0m filename_or_obj \u001B[38;5;241m=\u001B[39m _normalize_path(filename_or_obj)\n\u001B[0;32m--> 553\u001B[0m store \u001B[38;5;241m=\u001B[39m \u001B[43mNetCDF4DataStore\u001B[49m\u001B[38;5;241;43m.\u001B[39;49m\u001B[43mopen\u001B[49m\u001B[43m(\u001B[49m\n\u001B[1;32m    554\u001B[0m \u001B[43m    \u001B[49m\u001B[43mfilename_or_obj\u001B[49m\u001B[43m,\u001B[49m\n\u001B[1;32m    555\u001B[0m \u001B[43m    \u001B[49m\u001B[43mmode\u001B[49m\u001B[38;5;241;43m=\u001B[39;49m\u001B[43mmode\u001B[49m\u001B[43m,\u001B[49m\n\u001B[1;32m    556\u001B[0m \u001B[43m    \u001B[49m\u001B[38;5;28;43mformat\u001B[39;49m\u001B[38;5;241;43m=\u001B[39;49m\u001B[38;5;28;43mformat\u001B[39;49m\u001B[43m,\u001B[49m\n\u001B[1;32m    557\u001B[0m \u001B[43m    \u001B[49m\u001B[43mgroup\u001B[49m\u001B[38;5;241;43m=\u001B[39;49m\u001B[43mgroup\u001B[49m\u001B[43m,\u001B[49m\n\u001B[1;32m    558\u001B[0m \u001B[43m    \u001B[49m\u001B[43mclobber\u001B[49m\u001B[38;5;241;43m=\u001B[39;49m\u001B[43mclobber\u001B[49m\u001B[43m,\u001B[49m\n\u001B[1;32m    559\u001B[0m \u001B[43m    \u001B[49m\u001B[43mdiskless\u001B[49m\u001B[38;5;241;43m=\u001B[39;49m\u001B[43mdiskless\u001B[49m\u001B[43m,\u001B[49m\n\u001B[1;32m    560\u001B[0m \u001B[43m    \u001B[49m\u001B[43mpersist\u001B[49m\u001B[38;5;241;43m=\u001B[39;49m\u001B[43mpersist\u001B[49m\u001B[43m,\u001B[49m\n\u001B[1;32m    561\u001B[0m \u001B[43m    \u001B[49m\u001B[43mlock\u001B[49m\u001B[38;5;241;43m=\u001B[39;49m\u001B[43mlock\u001B[49m\u001B[43m,\u001B[49m\n\u001B[1;32m    562\u001B[0m \u001B[43m    \u001B[49m\u001B[43mautoclose\u001B[49m\u001B[38;5;241;43m=\u001B[39;49m\u001B[43mautoclose\u001B[49m\u001B[43m,\u001B[49m\n\u001B[1;32m    563\u001B[0m \u001B[43m\u001B[49m\u001B[43m)\u001B[49m\n\u001B[1;32m    565\u001B[0m store_entrypoint \u001B[38;5;241m=\u001B[39m StoreBackendEntrypoint()\n",
      "File \u001B[0;32m~/opt/anaconda3/envs/Spy4CastManual/lib/python3.9/site-packages/xarray/backends/netCDF4_.py:382\u001B[0m, in \u001B[0;36mNetCDF4DataStore.open\u001B[0;34m(cls, filename, mode, format, group, clobber, diskless, persist, lock, lock_maker, autoclose)\u001B[0m\n\u001B[1;32m    379\u001B[0m manager \u001B[38;5;241m=\u001B[39m CachingFileManager(\n\u001B[1;32m    380\u001B[0m     netCDF4\u001B[38;5;241m.\u001B[39mDataset, filename, mode\u001B[38;5;241m=\u001B[39mmode, kwargs\u001B[38;5;241m=\u001B[39mkwargs\n\u001B[1;32m    381\u001B[0m )\n\u001B[0;32m--> 382\u001B[0m \u001B[38;5;28;01mreturn\u001B[39;00m \u001B[38;5;28;43mcls\u001B[39;49m\u001B[43m(\u001B[49m\u001B[43mmanager\u001B[49m\u001B[43m,\u001B[49m\u001B[43m \u001B[49m\u001B[43mgroup\u001B[49m\u001B[38;5;241;43m=\u001B[39;49m\u001B[43mgroup\u001B[49m\u001B[43m,\u001B[49m\u001B[43m \u001B[49m\u001B[43mmode\u001B[49m\u001B[38;5;241;43m=\u001B[39;49m\u001B[43mmode\u001B[49m\u001B[43m,\u001B[49m\u001B[43m \u001B[49m\u001B[43mlock\u001B[49m\u001B[38;5;241;43m=\u001B[39;49m\u001B[43mlock\u001B[49m\u001B[43m,\u001B[49m\u001B[43m \u001B[49m\u001B[43mautoclose\u001B[49m\u001B[38;5;241;43m=\u001B[39;49m\u001B[43mautoclose\u001B[49m\u001B[43m)\u001B[49m\n",
      "File \u001B[0;32m~/opt/anaconda3/envs/Spy4CastManual/lib/python3.9/site-packages/xarray/backends/netCDF4_.py:330\u001B[0m, in \u001B[0;36mNetCDF4DataStore.__init__\u001B[0;34m(self, manager, group, mode, lock, autoclose)\u001B[0m\n\u001B[1;32m    329\u001B[0m \u001B[38;5;28mself\u001B[39m\u001B[38;5;241m.\u001B[39m_mode \u001B[38;5;241m=\u001B[39m mode\n\u001B[0;32m--> 330\u001B[0m \u001B[38;5;28mself\u001B[39m\u001B[38;5;241m.\u001B[39mformat \u001B[38;5;241m=\u001B[39m \u001B[38;5;28;43mself\u001B[39;49m\u001B[38;5;241;43m.\u001B[39;49m\u001B[43mds\u001B[49m\u001B[38;5;241m.\u001B[39mdata_model\n\u001B[1;32m    331\u001B[0m \u001B[38;5;28mself\u001B[39m\u001B[38;5;241m.\u001B[39m_filename \u001B[38;5;241m=\u001B[39m \u001B[38;5;28mself\u001B[39m\u001B[38;5;241m.\u001B[39mds\u001B[38;5;241m.\u001B[39mfilepath()\n",
      "File \u001B[0;32m~/opt/anaconda3/envs/Spy4CastManual/lib/python3.9/site-packages/xarray/backends/netCDF4_.py:391\u001B[0m, in \u001B[0;36mNetCDF4DataStore.ds\u001B[0;34m(self)\u001B[0m\n\u001B[1;32m    389\u001B[0m \u001B[38;5;129m@property\u001B[39m\n\u001B[1;32m    390\u001B[0m \u001B[38;5;28;01mdef\u001B[39;00m \u001B[38;5;21mds\u001B[39m(\u001B[38;5;28mself\u001B[39m):\n\u001B[0;32m--> 391\u001B[0m     \u001B[38;5;28;01mreturn\u001B[39;00m \u001B[38;5;28;43mself\u001B[39;49m\u001B[38;5;241;43m.\u001B[39;49m\u001B[43m_acquire\u001B[49m\u001B[43m(\u001B[49m\u001B[43m)\u001B[49m\n",
      "File \u001B[0;32m~/opt/anaconda3/envs/Spy4CastManual/lib/python3.9/site-packages/xarray/backends/netCDF4_.py:385\u001B[0m, in \u001B[0;36mNetCDF4DataStore._acquire\u001B[0;34m(self, needs_lock)\u001B[0m\n\u001B[1;32m    384\u001B[0m \u001B[38;5;28;01mdef\u001B[39;00m \u001B[38;5;21m_acquire\u001B[39m(\u001B[38;5;28mself\u001B[39m, needs_lock\u001B[38;5;241m=\u001B[39m\u001B[38;5;28;01mTrue\u001B[39;00m):\n\u001B[0;32m--> 385\u001B[0m     \u001B[38;5;28;01mwith\u001B[39;00m \u001B[38;5;28mself\u001B[39m\u001B[38;5;241m.\u001B[39m_manager\u001B[38;5;241m.\u001B[39macquire_context(needs_lock) \u001B[38;5;28;01mas\u001B[39;00m root:\n\u001B[1;32m    386\u001B[0m         ds \u001B[38;5;241m=\u001B[39m _nc4_require_group(root, \u001B[38;5;28mself\u001B[39m\u001B[38;5;241m.\u001B[39m_group, \u001B[38;5;28mself\u001B[39m\u001B[38;5;241m.\u001B[39m_mode)\n",
      "File \u001B[0;32m~/opt/anaconda3/envs/Spy4CastManual/lib/python3.9/contextlib.py:119\u001B[0m, in \u001B[0;36m_GeneratorContextManager.__enter__\u001B[0;34m(self)\u001B[0m\n\u001B[1;32m    118\u001B[0m \u001B[38;5;28;01mtry\u001B[39;00m:\n\u001B[0;32m--> 119\u001B[0m     \u001B[38;5;28;01mreturn\u001B[39;00m \u001B[38;5;28;43mnext\u001B[39;49m\u001B[43m(\u001B[49m\u001B[38;5;28;43mself\u001B[39;49m\u001B[38;5;241;43m.\u001B[39;49m\u001B[43mgen\u001B[49m\u001B[43m)\u001B[49m\n\u001B[1;32m    120\u001B[0m \u001B[38;5;28;01mexcept\u001B[39;00m \u001B[38;5;167;01mStopIteration\u001B[39;00m:\n",
      "File \u001B[0;32m~/opt/anaconda3/envs/Spy4CastManual/lib/python3.9/site-packages/xarray/backends/file_manager.py:187\u001B[0m, in \u001B[0;36mCachingFileManager.acquire_context\u001B[0;34m(self, needs_lock)\u001B[0m\n\u001B[1;32m    186\u001B[0m \u001B[38;5;250m\u001B[39m\u001B[38;5;124;03m\"\"\"Context manager for acquiring a file.\"\"\"\u001B[39;00m\n\u001B[0;32m--> 187\u001B[0m file, cached \u001B[38;5;241m=\u001B[39m \u001B[38;5;28;43mself\u001B[39;49m\u001B[38;5;241;43m.\u001B[39;49m\u001B[43m_acquire_with_cache_info\u001B[49m\u001B[43m(\u001B[49m\u001B[43mneeds_lock\u001B[49m\u001B[43m)\u001B[49m\n\u001B[1;32m    188\u001B[0m \u001B[38;5;28;01mtry\u001B[39;00m:\n",
      "File \u001B[0;32m~/opt/anaconda3/envs/Spy4CastManual/lib/python3.9/site-packages/xarray/backends/file_manager.py:205\u001B[0m, in \u001B[0;36mCachingFileManager._acquire_with_cache_info\u001B[0;34m(self, needs_lock)\u001B[0m\n\u001B[1;32m    204\u001B[0m     kwargs[\u001B[38;5;124m\"\u001B[39m\u001B[38;5;124mmode\u001B[39m\u001B[38;5;124m\"\u001B[39m] \u001B[38;5;241m=\u001B[39m \u001B[38;5;28mself\u001B[39m\u001B[38;5;241m.\u001B[39m_mode\n\u001B[0;32m--> 205\u001B[0m file \u001B[38;5;241m=\u001B[39m \u001B[38;5;28;43mself\u001B[39;49m\u001B[38;5;241;43m.\u001B[39;49m\u001B[43m_opener\u001B[49m\u001B[43m(\u001B[49m\u001B[38;5;241;43m*\u001B[39;49m\u001B[38;5;28;43mself\u001B[39;49m\u001B[38;5;241;43m.\u001B[39;49m\u001B[43m_args\u001B[49m\u001B[43m,\u001B[49m\u001B[43m \u001B[49m\u001B[38;5;241;43m*\u001B[39;49m\u001B[38;5;241;43m*\u001B[39;49m\u001B[43mkwargs\u001B[49m\u001B[43m)\u001B[49m\n\u001B[1;32m    206\u001B[0m \u001B[38;5;28;01mif\u001B[39;00m \u001B[38;5;28mself\u001B[39m\u001B[38;5;241m.\u001B[39m_mode \u001B[38;5;241m==\u001B[39m \u001B[38;5;124m\"\u001B[39m\u001B[38;5;124mw\u001B[39m\u001B[38;5;124m\"\u001B[39m:\n\u001B[1;32m    207\u001B[0m     \u001B[38;5;66;03m# ensure file doesn't get overridden when opened again\u001B[39;00m\n",
      "File \u001B[0;32msrc/netCDF4/_netCDF4.pyx:2464\u001B[0m, in \u001B[0;36mnetCDF4._netCDF4.Dataset.__init__\u001B[0;34m()\u001B[0m\n",
      "File \u001B[0;32msrc/netCDF4/_netCDF4.pyx:2027\u001B[0m, in \u001B[0;36mnetCDF4._netCDF4._ensure_nc_success\u001B[0;34m()\u001B[0m\n",
      "\u001B[0;31mFileNotFoundError\u001B[0m: [Errno 2] No such file or directory: '/Users/pabloduran/Developer/Spy4CastManual/datasets/cru_ts4.06.1901.2021.pre.dat.nc'",
      "\nThe above exception was the direct cause of the following exception:\n",
      "\u001B[0;31mDatasetNotFoundError\u001B[0m                      Traceback (most recent call last)",
      "Cell \u001B[0;32mIn[2], line 8\u001B[0m\n\u001B[1;32m      1\u001B[0m predictor \u001B[38;5;241m=\u001B[39m Dataset(\u001B[38;5;124m'\u001B[39m\u001B[38;5;124mHadISST_sst-1970_2020.nc\u001B[39m\u001B[38;5;124m'\u001B[39m, \u001B[38;5;124m'\u001B[39m\u001B[38;5;124mdatasets\u001B[39m\u001B[38;5;124m'\u001B[39m)\u001B[38;5;241m.\u001B[39mopen(\u001B[38;5;124m'\u001B[39m\u001B[38;5;124msst\u001B[39m\u001B[38;5;124m'\u001B[39m)\u001B[38;5;241m.\u001B[39mslice(\n\u001B[1;32m      2\u001B[0m     Region(lat0\u001B[38;5;241m=\u001B[39m\u001B[38;5;241m-\u001B[39m\u001B[38;5;241m30\u001B[39m, latf\u001B[38;5;241m=\u001B[39m\u001B[38;5;241m30\u001B[39m,\n\u001B[1;32m      3\u001B[0m            lon0\u001B[38;5;241m=\u001B[39m\u001B[38;5;241m-\u001B[39m\u001B[38;5;241m200\u001B[39m, lonf\u001B[38;5;241m=\u001B[39m\u001B[38;5;241m-\u001B[39m\u001B[38;5;241m60\u001B[39m,\n\u001B[1;32m      4\u001B[0m            month0\u001B[38;5;241m=\u001B[39mMonth\u001B[38;5;241m.\u001B[39mAPR, monthf\u001B[38;5;241m=\u001B[39mMonth\u001B[38;5;241m.\u001B[39mJUN,\n\u001B[1;32m      5\u001B[0m            year0\u001B[38;5;241m=\u001B[39m\u001B[38;5;241m1976\u001B[39m, yearf\u001B[38;5;241m=\u001B[39m\u001B[38;5;241m2000\u001B[39m),\n\u001B[1;32m      6\u001B[0m )\n\u001B[0;32m----> 8\u001B[0m predictand \u001B[38;5;241m=\u001B[39m \u001B[43mDataset\u001B[49m\u001B[43m(\u001B[49m\u001B[38;5;124;43m'\u001B[39;49m\u001B[38;5;124;43mcru_ts4.06.1901.2021.pre.dat.nc\u001B[39;49m\u001B[38;5;124;43m'\u001B[39;49m\u001B[43m,\u001B[49m\u001B[43m \u001B[49m\u001B[38;5;124;43m'\u001B[39;49m\u001B[38;5;124;43mdatasets\u001B[39;49m\u001B[38;5;124;43m'\u001B[39;49m\u001B[43m)\u001B[49m\u001B[38;5;241;43m.\u001B[39;49m\u001B[43mopen\u001B[49m\u001B[43m(\u001B[49m\u001B[38;5;124;43m'\u001B[39;49m\u001B[38;5;124;43mpre\u001B[39;49m\u001B[38;5;124;43m'\u001B[39;49m\u001B[43m)\u001B[49m\u001B[38;5;241m.\u001B[39mslice(\n\u001B[1;32m      9\u001B[0m     Region(lat0\u001B[38;5;241m=\u001B[39m\u001B[38;5;241m0\u001B[39m, latf\u001B[38;5;241m=\u001B[39m\u001B[38;5;241m25\u001B[39m,\n\u001B[1;32m     10\u001B[0m            lon0\u001B[38;5;241m=\u001B[39m\u001B[38;5;241m-\u001B[39m\u001B[38;5;241m20\u001B[39m, lonf\u001B[38;5;241m=\u001B[39m\u001B[38;5;241m20\u001B[39m,\n\u001B[1;32m     11\u001B[0m            month0\u001B[38;5;241m=\u001B[39mMonth\u001B[38;5;241m.\u001B[39mJUL, monthf\u001B[38;5;241m=\u001B[39mMonth\u001B[38;5;241m.\u001B[39mSEP,\n\u001B[1;32m     12\u001B[0m            year0\u001B[38;5;241m=\u001B[39m\u001B[38;5;241m1976\u001B[39m, yearf\u001B[38;5;241m=\u001B[39m\u001B[38;5;241m2000\u001B[39m),\n\u001B[1;32m     13\u001B[0m )\n",
      "File \u001B[0;32m~/opt/anaconda3/envs/Spy4CastManual/lib/python3.9/site-packages/spy4cast/dataset.py:269\u001B[0m, in \u001B[0;36mDataset.open\u001B[0;34m(self, var)\u001B[0m\n\u001B[1;32m    267\u001B[0m         \u001B[38;5;28;01mraise\u001B[39;00m DatasetError \u001B[38;5;28;01mfrom\u001B[39;00m \u001B[38;5;21;01me\u001B[39;00m\n\u001B[1;32m    268\u001B[0m \u001B[38;5;28;01mexcept\u001B[39;00m \u001B[38;5;167;01mFileNotFoundError\u001B[39;00m \u001B[38;5;28;01mas\u001B[39;00m e:\n\u001B[0;32m--> 269\u001B[0m     \u001B[38;5;28;01mraise\u001B[39;00m DatasetNotFoundError \u001B[38;5;28;01mfrom\u001B[39;00m \u001B[38;5;21;01me\u001B[39;00m\n\u001B[1;32m    271\u001B[0m \u001B[38;5;28;01mif\u001B[39;00m var \u001B[38;5;129;01mis\u001B[39;00m \u001B[38;5;129;01mnot\u001B[39;00m \u001B[38;5;28;01mNone\u001B[39;00m:\n\u001B[1;32m    272\u001B[0m     \u001B[38;5;28mself\u001B[39m\u001B[38;5;241m.\u001B[39m_var \u001B[38;5;241m=\u001B[39m var\n",
      "\u001B[0;31mDatasetNotFoundError\u001B[0m: Couldn't find dataset"
     ]
    }
   ],
   "source": [
    "predictor = Dataset('HadISST_sst-1970_2020.nc', 'datasets').open('sst').slice(\n",
    "    Region(lat0=-30, latf=30,\n",
    "           lon0=-200, lonf=-60,\n",
    "           month0=Month.APR, monthf=Month.JUN,\n",
    "           year0=1976, yearf=2000),\n",
    ")\n",
    "\n",
    "predictand = Dataset('cru_ts4.06.1901.2021.pre.dat.nc', 'datasets').open('pre').slice(\n",
    "    Region(lat0=0, latf=25,\n",
    "           lon0=-20, lonf=20,\n",
    "           month0=Month.JUL, monthf=Month.SEP,\n",
    "           year0=1976, yearf=2000),\n",
    ")\n",
    "#  There is a lag of 3 months (from April to July)"
   ],
   "metadata": {
    "collapsed": false,
    "pycharm": {
     "name": "#%%\n"
    }
   }
  },
  {
   "cell_type": "markdown",
   "source": [
    "## Methodology"
   ],
   "metadata": {
    "collapsed": false
   }
  },
  {
   "cell_type": "markdown",
   "source": [
    "### Preprocessing"
   ],
   "metadata": {
    "collapsed": false,
    "pycharm": {
     "name": "#%% md\n"
    }
   }
  },
  {
   "cell_type": "code",
   "execution_count": 26,
   "outputs": [
    {
     "name": "stdout",
     "output_type": "stream",
     "text": [
      "[INFO] Preprocessing data for variable sst took: 0.070 seconds\n",
      "[INFO] Saving Preprocess data in `data-Pacific_Impact_Sahelian_Rainfall/y_*.npy`\n",
      "[INFO] Preprocessing data for variable pre took: 0.077 seconds\n",
      "[INFO] Saving Preprocess data in `data-Pacific_Impact_Sahelian_Rainfall/z_*.npy`\n"
     ]
    }
   ],
   "source": [
    "# First step. Preprocess variables: anomaly and reshaping\n",
    "predictor_preprocessed = Preprocess(predictor)\n",
    "predictor_preprocessed.save('y_', 'data-Pacific_Impact_Sahelian_Rainfall/')\n",
    "# Save matrices as .npy for fast loading. To load use:\n",
    "# predictor_preprocessed = Preprocess.load('y_', 'data-Pacific_Impact_Sahelian_Rainfall/')\n",
    "predictand_preprocessed = Preprocess(predictand)\n",
    "predictand_preprocessed.save('z_', 'data-Pacific_Impact_Sahelian_Rainfall/')\n",
    "# predictand_preprocessed = Preprocess.load('z_', 'data/-Pacific_Impact_Sahelian_Rainfall')"
   ],
   "metadata": {
    "collapsed": false,
    "pycharm": {
     "name": "#%%\n"
    }
   }
  },
  {
   "cell_type": "markdown",
   "source": [
    "### MCA"
   ],
   "metadata": {
    "collapsed": false,
    "pycharm": {
     "name": "#%% md\n"
    }
   }
  },
  {
   "cell_type": "code",
   "execution_count": 27,
   "outputs": [
    {
     "name": "stdout",
     "output_type": "stream",
     "text": [
      "[INFO] Applying MCA \n",
      "    Shapes: Z(4000, 25) \n",
      "            Y(7200, 25) \n",
      "    Regions: Z JAS (0.00ºN, 25.00ºN - 20.00ºW, 20.00ºE) \n",
      "            Y AMJ (30.00ºS, 30.00ºN - 200.00ºW, 60.00ºW)\n",
      "       Took: 15.483 seconds\n",
      "[INFO] Saving MCA data in `data-Pacific_Impact_Sahelian_Rainfall/mca_*.npy`\n"
     ]
    }
   ],
   "source": [
    "# Second step. MCA: expansion coefficients and correlation and regression maps\n",
    "nm = 3\n",
    "alpha = 0.05\n",
    "mca = MCA(predictor_preprocessed, predictand_preprocessed, nm, alpha)\n",
    "mca.save('mca_', 'data-Pacific_Impact_Sahelian_Rainfall/')\n",
    "# mca = MCA.load('mca_', 'data-Pacific_Impact_Sahelian_Rainfall/', dsy=predictor_preprocessed, dsz=predictand_preprocessed)"
   ],
   "metadata": {
    "collapsed": false,
    "pycharm": {
     "name": "#%%\n"
    }
   }
  },
  {
   "cell_type": "markdown",
   "source": [
    "### Crossvalidation"
   ],
   "metadata": {
    "collapsed": false,
    "pycharm": {
     "name": "#%% md\n"
    }
   }
  },
  {
   "cell_type": "code",
   "execution_count": null,
   "outputs": [
    {
     "name": "stdout",
     "output_type": "stream",
     "text": [
      "[INFO] Applying Crossvalidation \n",
      "    Shapes: Z(4000, 25) \n",
      "            Y(7200, 25) \n",
      "    Regions: Z JAS (0.00ºN, 25.00ºN - 20.00ºW, 20.00ºE) \n",
      "            Y AMJ (30.00ºS, 30.00ºN - 200.00ºW, 60.00ºW)\n",
      "\tyear: 1 of 25\n",
      "\tyear: 2 of 25\n",
      "\tyear: 3 of 25\n",
      "\tyear: 4 of 25\n",
      "\tyear: 5 of 25\n",
      "\tyear: 6 of 25\n",
      "\tyear: 7 of 25\n",
      "\tyear: 8 of 25\n",
      "\tyear: 9 of 25\n",
      "\tyear: 10 of 25\n",
      "\tyear: 11 of 25\n",
      "\tyear: 12 of 25\n",
      "\tyear: 13 of 25\n",
      "\tyear: 14 of 25\n",
      "\tyear: 15 of 25\n",
      "\tyear: 16 of 25\n",
      "\tyear: 17 of 25\n",
      "\tyear: 18 of 25\n",
      "\tyear: 19 of 25\n",
      "\tyear: 20 of 25\n",
      "\tyear: 21 of 25\n",
      "\tyear: 22 of 25\n",
      "\tyear: 23 of 25\n"
     ]
    }
   ],
   "source": [
    "# Third step. Crossvalidation: skill and hidcast evaluation and products\n",
    "cross = Crossvalidation(predictor_preprocessed, predictand_preprocessed, nm, alpha)\n",
    "cross.save('cross_', 'data-Pacific_Impact_Sahelian_Rainfall/')\n",
    "# cross = Crossvalidation.load('cross_', 'data-Pacific_Impact_Sahelian_Rainfall/', dsy=predictor_preprocessed, dsz=predictand_preprocessed)"
   ],
   "metadata": {
    "collapsed": false,
    "pycharm": {
     "name": "#%%\n",
     "is_executing": true
    }
   }
  },
  {
   "cell_type": "markdown",
   "source": [
    "## Plotting results"
   ],
   "metadata": {
    "collapsed": false,
    "pycharm": {
     "name": "#%% md\n"
    }
   }
  },
  {
   "cell_type": "code",
   "execution_count": null,
   "outputs": [],
   "source": [
    "mca.plot(save_fig=True, cmap='viridis', name='mca.png', folder='plots-Pacific_Impact_Sahelian_Rainfall/', suy_ticks=[-0.25, -0.125, 0, 0.125, 0.250], suz_ticks=[-0.25, -0.125, 0, 0.125, 0.250])\n",
    "cross.plot(save_fig=True, cmap='viridis', name='cross.png', folder='plots-Pacific_Impact_Sahelian_Rainfall/')"
   ],
   "metadata": {
    "collapsed": false,
    "pycharm": {
     "name": "#%%\n",
     "is_executing": true
    }
   }
  }
 ],
 "metadata": {
  "kernelspec": {
   "display_name": "Python 3",
   "language": "python",
   "name": "python3"
  },
  "language_info": {
   "codemirror_mode": {
    "name": "ipython",
    "version": 2
   },
   "file_extension": ".py",
   "mimetype": "text/x-python",
   "name": "python",
   "nbconvert_exporter": "python",
   "pygments_lexer": "ipython2",
   "version": "2.7.6"
  }
 },
 "nbformat": 4,
 "nbformat_minor": 0
}