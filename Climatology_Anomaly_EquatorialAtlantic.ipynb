{
 "cells": [
  {
   "cell_type": "markdown",
   "metadata": {},
   "source": [
    "# Example to Open, Slice and Plot Anomaly and Climatology Maps"
   ]
  },
  {
   "cell_type": "markdown",
   "metadata": {},
   "source": [
    "## Configuration"
   ]
  },
  {
   "cell_type": "code",
   "execution_count": 1,
   "metadata": {},
   "outputs": [],
   "source": [
    "import numpy as np  # Used later\n",
    "from spy4cast import Dataset\n",
    "\n",
    "dataset_folder = \"./datasets\"  # Path to the folder where the datasets are stored.\n",
    "dataset_filename = \"HadISST_sst-1970_2020.nc\"  # File format must be netcdf4.\n",
    "ds = Dataset(dataset_filename, folder=dataset_folder)\n",
    "# A chunks keyword argument can be provided in this step. This value will be\n",
    "# stored internally and passed to in the opening step to use dask chunks."
   ]
  },
  {
   "cell_type": "code",
   "execution_count": 2,
   "metadata": {
    "collapsed": false,
    "jupyter": {
     "outputs_hidden": false
    },
    "pycharm": {
     "name": "#%%\n"
    }
   },
   "outputs": [
    {
     "data": {
      "text/plain": [
       "<spy4cast.dataset.Dataset at 0x7f8208900fd0>"
      ]
     },
     "execution_count": 2,
     "metadata": {},
     "output_type": "execute_result"
    }
   ],
   "source": [
    "ds.open(\"sst\")  # Opens the dataset, stores variables."
   ]
  },
  {
   "cell_type": "code",
   "execution_count": 3,
   "metadata": {
    "collapsed": false,
    "jupyter": {
     "outputs_hidden": false
    },
    "pycharm": {
     "name": "#%%\n"
    }
   },
   "outputs": [
    {
     "data": {
      "text/plain": [
       "<spy4cast.dataset.Dataset at 0x7f8208900fd0>"
      ]
     },
     "execution_count": 3,
     "metadata": {},
     "output_type": "execute_result"
    }
   ],
   "source": [
    "from spy4cast import Region, Month\n",
    "\n",
    "region = Region(\n",
    "    lat0=-30, latf=30,\n",
    "    lon0=-60, lonf=15,\n",
    "    month0=Month.MAY, monthf=Month.JUL,\n",
    "    year0=1976, yearf=2000\n",
    ")  # months can also be stated through integers.\n",
    "ds.slice(region)  # year0 and yearf apply to monthf.\n",
    "# ds.slice(region, skip=1)  # skip 1 data point in lat and lon dimension."
   ]
  },
  {
   "cell_type": "code",
   "execution_count": 4,
   "metadata": {
    "collapsed": false,
    "jupyter": {
     "outputs_hidden": false
    },
    "pycharm": {
     "name": "#%%\n"
    }
   },
   "outputs": [
    {
     "ename": "ValueError",
     "evalue": "Expected `contour` or `pcolor` for argument `plot_type`, but got None",
     "output_type": "error",
     "traceback": [
      "\u001b[0;31m---------------------------------------------------------------------------\u001b[0m",
      "\u001b[0;31mValueError\u001b[0m                                Traceback (most recent call last)",
      "Cell \u001b[0;32mIn[4], line 10\u001b[0m\n\u001b[1;32m      8\u001b[0m anom_ts \u001b[38;5;241m=\u001b[39m Anom(ds, \u001b[38;5;124m\"\u001b[39m\u001b[38;5;124mts\u001b[39m\u001b[38;5;124m\"\u001b[39m)  \u001b[38;5;66;03m# Mean in the lat and lon dimension\u001b[39;00m\n\u001b[1;32m      9\u001b[0m \u001b[38;5;66;03m# Plot with the .plot method (look at docs). Example:\u001b[39;00m\n\u001b[0;32m---> 10\u001b[0m \u001b[43mclim_map\u001b[49m\u001b[38;5;241;43m.\u001b[39;49m\u001b[43mplot\u001b[49m\u001b[43m(\u001b[49m\n\u001b[1;32m     11\u001b[0m \u001b[43m    \u001b[49m\u001b[43mshow_plot\u001b[49m\u001b[38;5;241;43m=\u001b[39;49m\u001b[38;5;28;43;01mTrue\u001b[39;49;00m\u001b[43m,\u001b[49m\u001b[43m \u001b[49m\u001b[43msave_fig\u001b[49m\u001b[38;5;241;43m=\u001b[39;49m\u001b[38;5;28;43;01mTrue\u001b[39;49;00m\u001b[43m,\u001b[49m\n\u001b[1;32m     12\u001b[0m \u001b[43m    \u001b[49m\u001b[43mname\u001b[49m\u001b[38;5;241;43m=\u001b[39;49m\u001b[38;5;124;43m\"\u001b[39;49m\u001b[38;5;124;43mplots-Climatology_Anomaly_EquatorialAtlantic/clim_map.png\u001b[39;49m\u001b[38;5;124;43m\"\u001b[39;49m\u001b[43m,\u001b[49m\n\u001b[1;32m     13\u001b[0m \u001b[43m    \u001b[49m\u001b[43mlevels\u001b[49m\u001b[38;5;241;43m=\u001b[39;49m\u001b[43mnp\u001b[49m\u001b[38;5;241;43m.\u001b[39;49m\u001b[43marange\u001b[49m\u001b[43m(\u001b[49m\u001b[38;5;241;43m22\u001b[39;49m\u001b[43m,\u001b[49m\u001b[43m \u001b[49m\u001b[38;5;241;43m28\u001b[39;49m\u001b[43m,\u001b[49m\u001b[43m \u001b[49m\u001b[38;5;241;43m0.1\u001b[39;49m\u001b[43m)\u001b[49m\u001b[43m,\u001b[49m\n\u001b[1;32m     14\u001b[0m \u001b[43m    \u001b[49m\u001b[43mticks\u001b[49m\u001b[38;5;241;43m=\u001b[39;49m\u001b[43mnp\u001b[49m\u001b[38;5;241;43m.\u001b[39;49m\u001b[43marange\u001b[49m\u001b[43m(\u001b[49m\u001b[38;5;241;43m22\u001b[39;49m\u001b[43m,\u001b[49m\u001b[43m \u001b[49m\u001b[38;5;241;43m28.5\u001b[39;49m\u001b[43m,\u001b[49m\u001b[43m \u001b[49m\u001b[38;5;241;43m0.5\u001b[39;49m\u001b[43m)\u001b[49m\u001b[43m,\u001b[49m\n\u001b[1;32m     15\u001b[0m \u001b[43m)\u001b[49m\n\u001b[1;32m     16\u001b[0m anom_map\u001b[38;5;241m.\u001b[39mplot(\n\u001b[1;32m     17\u001b[0m     year\u001b[38;5;241m=\u001b[39m\u001b[38;5;241m1997\u001b[39m, show_plot\u001b[38;5;241m=\u001b[39m\u001b[38;5;28;01mTrue\u001b[39;00m, save_fig\u001b[38;5;241m=\u001b[39m\u001b[38;5;28;01mTrue\u001b[39;00m,\n\u001b[1;32m     18\u001b[0m     name\u001b[38;5;241m=\u001b[39m\u001b[38;5;124m\"\u001b[39m\u001b[38;5;124mplots-Climatology_Anomaly_EquatorialAtlantic/anom_map.png\u001b[39m\u001b[38;5;124m\"\u001b[39m,\n\u001b[1;32m     19\u001b[0m     levels\u001b[38;5;241m=\u001b[39mnp\u001b[38;5;241m.\u001b[39marange(\u001b[38;5;241m-\u001b[39m\u001b[38;5;241m0.6\u001b[39m, \u001b[38;5;241m0.6\u001b[39m \u001b[38;5;241m+\u001b[39m \u001b[38;5;241m0.05\u001b[39m, \u001b[38;5;241m0.05\u001b[39m),\n\u001b[1;32m     20\u001b[0m     ticks\u001b[38;5;241m=\u001b[39mnp\u001b[38;5;241m.\u001b[39marange(\u001b[38;5;241m-\u001b[39m\u001b[38;5;241m0.6\u001b[39m, \u001b[38;5;241m0.8\u001b[39m, \u001b[38;5;241m0.2\u001b[39m),\n\u001b[1;32m     21\u001b[0m )\n\u001b[1;32m     22\u001b[0m \u001b[38;5;66;03m# Save the data with the .save method (look at docs). Example:\u001b[39;00m\n",
      "File \u001b[0;32m~/opt/anaconda3/envs/Spy4CastManual/lib/python3.9/site-packages/spy4cast/meteo/clim.py:372\u001b[0m, in \u001b[0;36mClim.plot\u001b[0;34m(self, save_fig, show_plot, halt_program, cmap, color, folder, name, levels, ticks, figsize, plot_type)\u001b[0m\n\u001b[1;32m    370\u001b[0m \u001b[38;5;28;01melif\u001b[39;00m \u001b[38;5;28mself\u001b[39m\u001b[38;5;241m.\u001b[39m_type \u001b[38;5;241m==\u001b[39m PlotType\u001b[38;5;241m.\u001b[39mMAP:\n\u001b[1;32m    371\u001b[0m     \u001b[38;5;28;01mif\u001b[39;00m plot_type \u001b[38;5;129;01mnot\u001b[39;00m \u001b[38;5;129;01min\u001b[39;00m (\u001b[38;5;124m\"\u001b[39m\u001b[38;5;124mcontour\u001b[39m\u001b[38;5;124m\"\u001b[39m, \u001b[38;5;124m\"\u001b[39m\u001b[38;5;124mpcolor\u001b[39m\u001b[38;5;124m\"\u001b[39m):\n\u001b[0;32m--> 372\u001b[0m         \u001b[38;5;28;01mraise\u001b[39;00m \u001b[38;5;167;01mValueError\u001b[39;00m(\u001b[38;5;124mf\u001b[39m\u001b[38;5;124m\"\u001b[39m\u001b[38;5;124mExpected `contour` or `pcolor` for argument `plot_type`, but got \u001b[39m\u001b[38;5;132;01m{\u001b[39;00mplot_type\u001b[38;5;132;01m}\u001b[39;00m\u001b[38;5;124m\"\u001b[39m)\n\u001b[1;32m    373\u001b[0m     nlat, nlon \u001b[38;5;241m=\u001b[39m \u001b[38;5;28mlen\u001b[39m(\u001b[38;5;28mself\u001b[39m\u001b[38;5;241m.\u001b[39mlat), \u001b[38;5;28mlen\u001b[39m(\u001b[38;5;28mself\u001b[39m\u001b[38;5;241m.\u001b[39mlon)\n\u001b[1;32m    374\u001b[0m     figsize \u001b[38;5;241m=\u001b[39m _calculate_figsize(nlat \u001b[38;5;241m/\u001b[39m nlon, maxwidth\u001b[38;5;241m=\u001b[39mMAX_WIDTH, maxheight\u001b[38;5;241m=\u001b[39mMAX_HEIGHT) \u001b[38;5;28;01mif\u001b[39;00m figsize \u001b[38;5;129;01mis\u001b[39;00m \u001b[38;5;28;01mNone\u001b[39;00m \u001b[38;5;28;01melse\u001b[39;00m figsize\n",
      "\u001b[0;31mValueError\u001b[0m: Expected `contour` or `pcolor` for argument `plot_type`, but got None"
     ]
    }
   ],
   "source": [
    "from spy4cast.meteo import Clim, Anom\n",
    "\n",
    "# Climatology maps and time series.\n",
    "clim_map = Clim(ds, \"map\")  # Mean in the time dimension.\n",
    "clim_ts = Clim(ds, \"ts\")  # Mean in the lat and lon dimension.\n",
    "# Anomaly maps and time series\n",
    "anom_map = Anom(ds, \"map\")  # An anomaly map for each year\n",
    "anom_ts = Anom(ds, \"ts\")  # Mean in the lat and lon dimension\n",
    "# Plot with the .plot method (look at docs). Example:\n",
    "clim_map.plot(\n",
    "    show_plot=True, save_fig=True,\n",
    "    name=\"plots-Climatology_Anomaly_EquatorialAtlantic/clim_map.png\",\n",
    "    levels=np.arange(22, 28, 0.1),\n",
    "    ticks=np.arange(22, 28.5, 0.5),\n",
    ")\n",
    "anom_map.plot(\n",
    "    year=1997, show_plot=True, save_fig=True,\n",
    "    name=\"plots-Climatology_Anomaly_EquatorialAtlantic/anom_map.png\",\n",
    "    levels=np.arange(-0.6, 0.6 + 0.05, 0.05),\n",
    "    ticks=np.arange(-0.6, 0.8, 0.2),\n",
    ")\n",
    "# Save the data with the .save method (look at docs). Example:\n",
    "anom_map.save(\"anom_map_\", folder=\"./data-Climatology_Anomaly_EquatorialAtlantic/\")\n",
    "# Load previously saved data with the .load method (look at docs). Example:\n",
    "anom_map = Anom.load(\"anom_map_\", folder=\"./data-Climatology_Anomaly_EquatorialAtlantic/\", type=\"map\")"
   ]
  },
  {
   "cell_type": "code",
   "execution_count": null,
   "metadata": {
    "collapsed": false,
    "jupyter": {
     "outputs_hidden": false
    },
    "pycharm": {
     "name": "#%%\n"
    }
   },
   "outputs": [],
   "source": []
  }
 ],
 "metadata": {
  "kernelspec": {
   "display_name": "Python 3 (ipykernel)",
   "language": "python",
   "name": "python3"
  },
  "language_info": {
   "codemirror_mode": {
    "name": "ipython",
    "version": 3
   },
   "file_extension": ".py",
   "mimetype": "text/x-python",
   "name": "python",
   "nbconvert_exporter": "python",
   "pygments_lexer": "ipython3",
   "version": "3.9.17"
  }
 },
 "nbformat": 4,
 "nbformat_minor": 4
}
